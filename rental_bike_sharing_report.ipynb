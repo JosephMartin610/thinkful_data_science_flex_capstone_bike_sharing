{
  "nbformat": 4,
  "nbformat_minor": 0,
  "metadata": {
    "colab": {
      "name": "rental_bike_sharing_report.ipynb",
      "provenance": [],
      "collapsed_sections": [
        "sBH06j3pRwEl",
        "7t6-X7fSgHMA"
      ]
    },
    "kernelspec": {
      "name": "python3",
      "display_name": "Python 3"
    },
    "language_info": {
      "name": "python"
    }
  },
  "cells": [
    {
      "cell_type": "markdown",
      "metadata": {
        "id": "rsoSF3r4Pos1"
      },
      "source": [
        "### **Testing Hypotheses for Group Differences in a Rental Bike Sharing Dataset**\n",
        "Joseph P. Martin\n",
        "\n",
        "Phase 2, Module 6: Capstone 1: Experimental Design\n",
        "\n",
        "Checkpoint 2: Run, Analyze, and Write Up Your Experiment Results"
      ]
    },
    {
      "cell_type": "markdown",
      "metadata": {
        "id": "sBH06j3pRwEl"
      },
      "source": [
        "####**1. Introduction**\n",
        "The data for this capstone project come from a rental bike sharing system in which riders pay to rent a simple bike for use on urban streets. Riders obtain a bike at one station, cycle, and then drop the bike off at another station. The data originally come from the Capital Bikeshare system in Washington, D.C. on all days in 2011 and 2012. According to Wikipedia, this was an early example of such a system in the United States. Capital Bikeshare launched in the later part of 2010, so these early data likely informed its ongoing growth. \n",
        "\n",
        "One reason this dataset is of interest is because of the expanding use of these systems, as the creators point out: “There are about over 500 bike-sharing programs around the world which are composed of over 500 thousand bicycles.” There is great interest in these systems “due to their important role in traffic, environmental and health issues.”\n",
        "\n",
        "The dataset creators aggregated counts of riders by hour (hour.csv) and day (day.csv). There are other columns related to various measures of time and weather. Using file day.csv, rider counts will be grouped according to these other columns to determine if there are significant differences among groups. Does the average count of riders depend on group classification by aspects of time or weather?\n",
        "\n",
        "\n",
        "\n"
      ]
    },
    {
      "cell_type": "markdown",
      "metadata": {
        "id": "7t6-X7fSgHMA"
      },
      "source": [
        "####**2. Hypotheses**\n",
        "The hypotheses to be tested are as follows:\n",
        "1.   Working and Non-Working Days (Non-Holiday Weekday vs. Weekend or Holiday) \n",
        "\n",
        ">*   H₀: There is no significant difference between the average count of riders on working and non-working days.\n",
        ">*   Hₐ: There is a significant difference between the average count of riders on working and non-working days.\n",
        "\n",
        "2.   Day of the Week\n",
        "\n",
        ">*   H₀: There is no significant difference among the average count of riders on different days of the week.\n",
        ">*   Hₐ: There is a significant difference among the average count of riders on different days of the week.\n",
        "\n",
        "3.   Season\n",
        "\n",
        ">*   H₀: There is no significant difference among the average daily count of riders in the four seasons.\n",
        ">*   Hₐ: There is a significant difference among the average daily count of riders in the four seasons.\n",
        "\n",
        "4.   Weather Intensity (four possible groups)\n",
        "\n",
        ">*   H₀: There is no significant difference among the average daily count of riders in the different weather intensity groups.\n",
        ">*   Hₐ: There is a significant difference among the average daily count of riders in the different weather intensity groups."
      ]
    },
    {
      "cell_type": "markdown",
      "metadata": {
        "id": "wrR1WwDwNYYW"
      },
      "source": [
        "####**3. Data**\n",
        "The data were obtained from: https://www.kaggle.com/imakash3011/rental-bike-sharing and originally come from the Capital Bikeshare system in Washington, D.C. on all days in 2011 and 2012.\n",
        "\n",
        "In file day.csv, the dataset creators aggregated counts of riders by day. These counts are broken out into “casual” and “registered” users. Columns related to time are date, year, month, hour, season, day of the week, and whether the day is or is not a holiday or is or is not a working day. Weather-related columns added by the dataset creators from freemeteo.com are weather intensity, temperature, sensed temperature, humidity, and wind speed."
      ]
    },
    {
      "cell_type": "code",
      "metadata": {
        "id": "kk-2WuNmO42j"
      },
      "source": [
        "# set up environment\n",
        "%matplotlib inline\n",
        "import pandas as pd\n",
        "import numpy as np\n",
        "import matplotlib.pyplot as plt\n",
        "from scipy import stats\n",
        "from datetime import datetime"
      ],
      "execution_count": null,
      "outputs": []
    },
    {
      "cell_type": "code",
      "metadata": {
        "id": "U26pnRm1PREI"
      },
      "source": [
        "# read in the dataset. storing this on github avoided authentication issue if stored on Google Drive. could not be read from Kaggle directly.\n",
        "rbs_data_day = pd.read_csv('https://raw.githubusercontent.com/JosephMartin610/thinkful_data_science_flex/main/day.csv')"
      ],
      "execution_count": null,
      "outputs": []
    },
    {
      "cell_type": "code",
      "metadata": {
        "colab": {
          "base_uri": "https://localhost:8080/"
        },
        "id": "p-2O_kwb2_9a",
        "outputId": "93d04346-c20d-4f0c-f037-434159b2cb0a"
      },
      "source": [
        "# take an initial look at the day and hour datasets\n",
        "print(rbs_data_day.shape)\n",
        "rbs_data_day.info()\n",
        "rbs_data_day.head()\n",
        "\n",
        "# look at value ranges or unique values in day.csv\n",
        "print('instant range: ', [rbs_data_day['instant'].min(), rbs_data_day['instant'].max()])\n",
        "print('dteday range: ', [rbs_data_day['dteday'].min(), rbs_data_day['dteday'].max()])\n",
        "print('dteday difference range: ', \n",
        "      [pd.to_datetime(rbs_data_day['dteday']).diff().min(), \n",
        "       pd.to_datetime(rbs_data_day['dteday']).diff().max()])\n",
        "print('season unique: ', rbs_data_day['season'].unique())\n",
        "print('yr unique: ', rbs_data_day['yr'].unique())\n",
        "print('mnth unique: ', rbs_data_day['mnth'].unique())\n",
        "print('holiday unique: ', rbs_data_day['holiday'].unique())\n",
        "print('weekday unique: ', rbs_data_day['weekday'].unique())\n",
        "print('workingday unique: ', rbs_data_day['workingday'].unique())\n",
        "print('weathersit unique: ', rbs_data_day['weathersit'].unique())\n",
        "print('temp range: ', [rbs_data_day['temp'].min(), rbs_data_day['temp'].max()])\n",
        "print('atemp range: ', [rbs_data_day['atemp'].min(), rbs_data_day['atemp'].max()])\n",
        "print('hum range: ', [rbs_data_day['hum'].min(), rbs_data_day['hum'].max()])\n",
        "print('windspeed range: ', [rbs_data_day['windspeed'].min(), rbs_data_day['windspeed'].max()])\n",
        "print('casual range: ', [rbs_data_day['casual'].min(), rbs_data_day['casual'].max()])\n",
        "print('registered range: ', [rbs_data_day['registered'].min(), rbs_data_day['registered'].max()])\n",
        "print('cnt range: ', [rbs_data_day['cnt'].min(), rbs_data_day['cnt'].max()])"
      ],
      "execution_count": null,
      "outputs": [
        {
          "output_type": "stream",
          "name": "stdout",
          "text": [
            "(731, 16)\n",
            "<class 'pandas.core.frame.DataFrame'>\n",
            "RangeIndex: 731 entries, 0 to 730\n",
            "Data columns (total 16 columns):\n",
            " #   Column      Non-Null Count  Dtype  \n",
            "---  ------      --------------  -----  \n",
            " 0   instant     731 non-null    int64  \n",
            " 1   dteday      731 non-null    object \n",
            " 2   season      731 non-null    int64  \n",
            " 3   yr          731 non-null    int64  \n",
            " 4   mnth        731 non-null    int64  \n",
            " 5   holiday     731 non-null    int64  \n",
            " 6   weekday     731 non-null    int64  \n",
            " 7   workingday  731 non-null    int64  \n",
            " 8   weathersit  731 non-null    int64  \n",
            " 9   temp        731 non-null    float64\n",
            " 10  atemp       731 non-null    float64\n",
            " 11  hum         731 non-null    float64\n",
            " 12  windspeed   731 non-null    float64\n",
            " 13  casual      731 non-null    int64  \n",
            " 14  registered  731 non-null    int64  \n",
            " 15  cnt         731 non-null    int64  \n",
            "dtypes: float64(4), int64(11), object(1)\n",
            "memory usage: 91.5+ KB\n",
            "instant range:  [1, 731]\n",
            "dteday range:  ['2011-01-01', '2012-12-31']\n",
            "dteday difference range:  [Timedelta('1 days 00:00:00'), Timedelta('1 days 00:00:00')]\n",
            "season unique:  [1 2 3 4]\n",
            "yr unique:  [0 1]\n",
            "mnth unique:  [ 1  2  3  4  5  6  7  8  9 10 11 12]\n",
            "holiday unique:  [0 1]\n",
            "weekday unique:  [6 0 1 2 3 4 5]\n",
            "workingday unique:  [0 1]\n",
            "weathersit unique:  [2 1 3]\n",
            "temp range:  [0.0591304, 0.861667]\n",
            "atemp range:  [0.0790696, 0.8408959999999999]\n",
            "hum range:  [0.0, 0.9725]\n",
            "windspeed range:  [0.0223917, 0.507463]\n",
            "casual range:  [2, 3410]\n",
            "registered range:  [20, 6946]\n",
            "cnt range:  [22, 8714]\n"
          ]
        }
      ]
    },
    {
      "cell_type": "markdown",
      "metadata": {
        "id": "-M6JAu28aVyj"
      },
      "source": [
        "Considering what is displayed above we determine the following:\n",
        "\n",
        "There are are 731 rows, because there is one row for each day in the two-year period 2011 and 2012 (365+366=731). All 731 entries for all columns are non-null.\n",
        "\n",
        "The columns are as specified in the Readme.txt file available on Kaggle.\n",
        "\n",
        "The value ranges or unique values in the columns in day.csv are:\n",
        "\n",
        "0: 'instant'    :\tint64   (record index: 1 to 731)\n",
        "\n",
        "1: 'dteday'     :\tobject  (each day (yyyy-mm-dd) in 2011 and 2012 for a total \n",
        "                            of 365 + 366 = 731 days)\n",
        "\n",
        "2: 'season'     : int64   (2 = spring, 3 = summer, 4 = autumn, 1 = winter; **wrong in Readme.txt**)\n",
        "\n",
        "3: 'yr'         : int64   (0 = 2011, 1 = 2012)\n",
        "\n",
        "4: 'mnth'       : int64   (1, 2, 3, 4, 5, 6, 7, 8, 9, 10, 11, 12)\n",
        "\n",
        "5: 'holiday'    : int64   (whether day is holiday or not: 0 or 1; extracted from http://dchr.dc.gov/page/holiday-schedule)\n",
        "\n",
        "6: 'weekday'    : int64   (day of the week: 6, 0, 1, 2, 3, 4, 5; 0 = Sunday to 6 = Saturday)\n",
        "\n",
        "7: 'workingday' : int64   (whether day is working day or not: 0 or 1; if day is neither weekend nor holiday is 1, otherwise is 0.)\n",
        "\n",
        "8: 'weathersit' : int64   (weather worse with increase in number: 1, 2, 3; 1 = Clear, Few Clouds, Partly Cloudy, Partly Cloudy; 2 = Mist + Cloudy, Mist + Broken Clouds, Mist + Few clouds, Mist; 3 = Light Snow, Light Rain + Thunderstorm + Scattered Clouds, Light Rain + Scattered Clouds; 4 = Heavy Rain + Ice Pallets + Thunderstorm + Mist, Snow + Fog {4 does not occur})\n",
        "\n",
        "9: 'temp'       : float64 (temperature: 0.0591 to 0.862 normalized by 41 degrees C)\n",
        "\n",
        "10:\t'atemp'     : float64 (temperature sensed: 0.079 to 0.841 normalized by 50 degrees C)\n",
        "\n",
        "11:\t'hum'       : float64 (humidity: 0.0000 to 0.9725 normalized by 100%)\n",
        "\n",
        "12: 'windspeed' :\tfloat64 (wind speed: 0.022 to 0.507 normalized by 67 m/s)\n",
        "\n",
        "13: 'casual'    : int64   (count of casual users: 2 to 3410)\n",
        "\n",
        "14: 'registered': int64   (count of registered users: 20 to 6946)\n",
        "\n",
        "15:\t'cnt'       : int64   (count of total users including both casual and registered: 22 to 8714)"
      ]
    },
    {
      "cell_type": "code",
      "metadata": {
        "colab": {
          "base_uri": "https://localhost:8080/"
        },
        "id": "bkCpjfs1bEnA",
        "outputId": "f41e1542-7402-4a99-9c14-a6c05e8a8136"
      },
      "source": [
        "# remove the normalizations\n",
        "temp_norm = 41\n",
        "atemp_norm = 50\n",
        "hum_norm = 100\n",
        "windspeed_norm = 67\n",
        "rbs_data_day['temp'] = rbs_data_day['temp'] * temp_norm\n",
        "rbs_data_day['atemp'] = rbs_data_day['atemp'] * atemp_norm\n",
        "rbs_data_day['hum'] = rbs_data_day['hum'] * hum_norm\n",
        "rbs_data_day['windspeed'] = rbs_data_day['windspeed'] * windspeed_norm\n",
        "print('temp range: ', [rbs_data_day['temp'].min(), rbs_data_day['temp'].max()])\n",
        "print('atemp range: ', [rbs_data_day['atemp'].min(), rbs_data_day['atemp'].max()])\n",
        "print('hum range: ', [rbs_data_day['hum'].min(), rbs_data_day['hum'].max()])\n",
        "print('windspeed range: ', [rbs_data_day['windspeed'].min(), rbs_data_day['windspeed'].max()])"
      ],
      "execution_count": null,
      "outputs": [
        {
          "output_type": "stream",
          "name": "stdout",
          "text": [
            "temp range:  [2.4243464, 35.328347]\n",
            "atemp range:  [3.9534800000000003, 42.044799999999995]\n",
            "hum range:  [0.0, 97.25]\n",
            "windspeed range:  [1.5002439, 34.000021]\n"
          ]
        }
      ]
    },
    {
      "cell_type": "markdown",
      "metadata": {
        "id": "tkQ1h79-LGyH"
      },
      "source": [
        "We now have these ranges:\n",
        "\n",
        "9: 'temp'       : float64 (temperature: 2.42 to 35.33 degrees C)\n",
        "\n",
        "10:\t'atemp'     : float64 (temperature sensed: 3.95 to 42.04 degrees C)\n",
        "\n",
        "11:\t'hum'       : float64 (humidity: 0.00% to 97.25%)\n",
        "\n",
        "12: 'windspeed' :\tfloat64 (wind speed: 1.50 to 34.00 m/s)"
      ]
    },
    {
      "cell_type": "markdown",
      "metadata": {
        "id": "yU-xP2p3vODi"
      },
      "source": [
        "Now consider the row counts for each of the groups that will be used for hypothesis testing. \n",
        "\n",
        "(Note: Counts here means row counts, not the rider counts.)"
      ]
    },
    {
      "cell_type": "code",
      "metadata": {
        "colab": {
          "base_uri": "https://localhost:8080/"
        },
        "id": "zXas0OGe7ey1",
        "outputId": "d01c165b-defe-45e3-ffde-6d1383fd32db"
      },
      "source": [
        "# Working and Non-Working Days\n",
        "print(rbs_data_day[['dteday']].groupby(rbs_data_day['workingday']).agg(['count']))\n",
        "\n",
        "# Day of the Week\n",
        "print(rbs_data_day[['dteday']].groupby(rbs_data_day['weekday']).agg(['count']))\n",
        "\n",
        "# Season\n",
        "print(rbs_data_day[['dteday']].groupby(rbs_data_day['season']).agg(['count']))\n",
        "\n",
        "# Weather Intensity\n",
        "print(rbs_data_day[['dteday']].groupby(rbs_data_day['weathersit']).agg(['count']))"
      ],
      "execution_count": null,
      "outputs": [
        {
          "output_type": "stream",
          "name": "stdout",
          "text": [
            "           dteday\n",
            "            count\n",
            "workingday       \n",
            "0             231\n",
            "1             500\n",
            "        dteday\n",
            "         count\n",
            "weekday       \n",
            "0          105\n",
            "1          105\n",
            "2          104\n",
            "3          104\n",
            "4          104\n",
            "5          104\n",
            "6          105\n",
            "       dteday\n",
            "        count\n",
            "season       \n",
            "1         181\n",
            "2         184\n",
            "3         188\n",
            "4         178\n",
            "           dteday\n",
            "            count\n",
            "weathersit       \n",
            "1             463\n",
            "2             247\n",
            "3              21\n"
          ]
        }
      ]
    },
    {
      "cell_type": "markdown",
      "metadata": {
        "id": "JGS3zIDY1jZD"
      },
      "source": [
        "The counts for workingday are as expected with a rough ratio of 2 nonworking days to every 5 working (weekdays) with additional nonworking days being holidays. Day of the week counts are evenly distributed. Season counts are evenly distributed but there are small differences because calender years are offset from season endpoints. As expected, the least intense weather is the most common."
      ]
    },
    {
      "cell_type": "markdown",
      "metadata": {
        "id": "g1G7ZAPSK5nW"
      },
      "source": [
        "####**4. Methods**\n",
        "\n",
        "While it is possible that some of the same individuals used a rental bike on different days, only overall counts are provided without identification of individual riders. Therefore, each group for each hypothesis will be considered independent.\n",
        "\n",
        "#####**1. Working and Non-Working Days**\n",
        "\n",
        "First, make dataframes grouped by workingday (1 = working day) and look at info: "
      ]
    },
    {
      "cell_type": "code",
      "metadata": {
        "colab": {
          "base_uri": "https://localhost:8080/"
        },
        "id": "8FG24s31QZck",
        "outputId": "3702fdf1-4e5f-4fbe-83af-cebf965b3723"
      },
      "source": [
        "rbs_data_day_wdy = rbs_data_day[(rbs_data_day['workingday'] == 1)]\n",
        "rbs_data_day_wdn = rbs_data_day[(rbs_data_day['workingday'] == 0)]\n",
        "\n",
        "print(rbs_data_day_wdy.info())\n",
        "print(rbs_data_day_wdn.info())"
      ],
      "execution_count": null,
      "outputs": [
        {
          "output_type": "stream",
          "name": "stdout",
          "text": [
            "<class 'pandas.core.frame.DataFrame'>\n",
            "Int64Index: 500 entries, 2 to 730\n",
            "Data columns (total 16 columns):\n",
            " #   Column      Non-Null Count  Dtype  \n",
            "---  ------      --------------  -----  \n",
            " 0   instant     500 non-null    int64  \n",
            " 1   dteday      500 non-null    object \n",
            " 2   season      500 non-null    int64  \n",
            " 3   yr          500 non-null    int64  \n",
            " 4   mnth        500 non-null    int64  \n",
            " 5   holiday     500 non-null    int64  \n",
            " 6   weekday     500 non-null    int64  \n",
            " 7   workingday  500 non-null    int64  \n",
            " 8   weathersit  500 non-null    int64  \n",
            " 9   temp        500 non-null    float64\n",
            " 10  atemp       500 non-null    float64\n",
            " 11  hum         500 non-null    float64\n",
            " 12  windspeed   500 non-null    float64\n",
            " 13  casual      500 non-null    int64  \n",
            " 14  registered  500 non-null    int64  \n",
            " 15  cnt         500 non-null    int64  \n",
            "dtypes: float64(4), int64(11), object(1)\n",
            "memory usage: 66.4+ KB\n",
            "None\n",
            "<class 'pandas.core.frame.DataFrame'>\n",
            "Int64Index: 231 entries, 0 to 729\n",
            "Data columns (total 16 columns):\n",
            " #   Column      Non-Null Count  Dtype  \n",
            "---  ------      --------------  -----  \n",
            " 0   instant     231 non-null    int64  \n",
            " 1   dteday      231 non-null    object \n",
            " 2   season      231 non-null    int64  \n",
            " 3   yr          231 non-null    int64  \n",
            " 4   mnth        231 non-null    int64  \n",
            " 5   holiday     231 non-null    int64  \n",
            " 6   weekday     231 non-null    int64  \n",
            " 7   workingday  231 non-null    int64  \n",
            " 8   weathersit  231 non-null    int64  \n",
            " 9   temp        231 non-null    float64\n",
            " 10  atemp       231 non-null    float64\n",
            " 11  hum         231 non-null    float64\n",
            " 12  windspeed   231 non-null    float64\n",
            " 13  casual      231 non-null    int64  \n",
            " 14  registered  231 non-null    int64  \n",
            " 15  cnt         231 non-null    int64  \n",
            "dtypes: float64(4), int64(11), object(1)\n",
            "memory usage: 30.7+ KB\n",
            "None\n"
          ]
        }
      ]
    },
    {
      "cell_type": "markdown",
      "metadata": {
        "id": "jG1tyqNhRv_q"
      },
      "source": [
        "Next, determine whether or not the rider counts are distributed normally by looking at descriptive statistics skewness and kurtosis, test statistic(s), and plots of distribution."
      ]
    },
    {
      "cell_type": "code",
      "metadata": {
        "colab": {
          "base_uri": "https://localhost:8080/",
          "height": 1000
        },
        "id": "49V6hMl0XIFr",
        "outputId": "3bf3bc38-6bfc-4dcc-e6dd-933712c67d8c"
      },
      "source": [
        "# descriptive statistics \n",
        "# and Shapiro-Wilk (S-W) and Kolmogorov–Smirnov (K-S) tests\n",
        "print('Working Days:')\n",
        "print(stats.describe(rbs_data_day_wdy['cnt']))\n",
        "print(stats.shapiro(rbs_data_day_wdy['cnt']))\n",
        "print(stats.kstest(rbs_data_day_wdy['cnt'],'norm'))\n",
        "print('Non-Working Days:')\n",
        "print(stats.describe(rbs_data_day_wdn['cnt']))\n",
        "print(stats.shapiro(rbs_data_day_wdn['cnt']))\n",
        "print(stats.kstest(rbs_data_day_wdn['cnt'],'norm'))\n",
        "\n",
        "# histograms\n",
        "#   separate\n",
        "rbs_data_day['cnt'].hist(by = rbs_data_day['workingday'])\n",
        "plt.show()\n",
        "#   together\n",
        "plt.hist(rbs_data_day_wdy['cnt'], alpha = .5)\n",
        "plt.hist(rbs_data_day_wdn['cnt'], alpha = .5)\n",
        "plt.show()\n",
        "\n",
        "# setup Q-Q plots\n",
        "rbs_data_day_wdy_cnt = rbs_data_day_wdy['cnt']\n",
        "rbs_data_day_wdn_cnt = rbs_data_day_wdn['cnt']\n",
        "# sort the values in ascending order\n",
        "rbs_data_day_wdy_cnt.sort_values()\n",
        "rbs_data_day_wdn_cnt.sort_values()\n",
        "# make a standard normally distributed variable with a matching length\n",
        "# a mean of 0, and standard deviation of 1 to use as a comparison\n",
        "norm_wdy = np.random.normal(0, 1, len(rbs_data_day_wdy_cnt))\n",
        "norm_wdn = np.random.normal(0, 1, len(rbs_data_day_wdn_cnt))\n",
        "# sort the values in ascending order\n",
        "norm_wdy.sort()\n",
        "norm_wdn.sort()\n",
        "# plot wdy_cnt vs. norm in QQ plot\n",
        "plt.plot(norm_wdy, rbs_data_day_wdy_cnt, \"o\")\n",
        "plt.show()\n",
        "# plot wdn_cnt vs. norm in QQ plot\n",
        "plt.plot(norm_wdn, rbs_data_day_wdn_cnt, \"o\")\n",
        "plt.show()"
      ],
      "execution_count": null,
      "outputs": [
        {
          "output_type": "stream",
          "name": "stdout",
          "text": [
            "Working Days:\n",
            "DescribeResult(nobs=500, minmax=(22, 8362), mean=4584.82, variance=3528445.101803607, skewness=-0.07413712660849178, kurtosis=-0.7843506929893747)\n",
            "(0.9765782356262207, 3.4888859090642654e-07)\n",
            "KstestResult(statistic=1.0, pvalue=0.0)\n",
            "Non-Working Days:\n",
            "DescribeResult(nobs=231, minmax=(605, 8714), mean=4330.168831168831, variance=4211283.688763411, skewness=0.03850367498079588, kurtosis=-0.8856271219652991)\n",
            "(0.9761089086532593, 0.0006035277037881315)\n",
            "KstestResult(statistic=1.0, pvalue=0.0)\n"
          ]
        },
        {
          "output_type": "display_data",
          "data": {
            "image/png": "[encoded data removed]",
            "text/plain": [
              "<Figure size 432x288 with 2 Axes>"
            ]
          },
          "metadata": {
            "needs_background": "light"
          }
        },
        {
          "output_type": "display_data",
          "data": {
            "image/png": "[encoded data removed]",
            "text/plain": [
              "<Figure size 432x288 with 1 Axes>"
            ]
          },
          "metadata": {
            "needs_background": "light"
          }
        },
        {
          "output_type": "display_data",
          "data": {
            "image/png": "[encoded data removed]",
            "text/plain": [
              "<Figure size 432x288 with 1 Axes>"
            ]
          },
          "metadata": {
            "needs_background": "light"
          }
        },
        {
          "output_type": "display_data",
          "data": {
            "image/png": "[encoded data removed]",
            "text/plain": [
              "<Figure size 432x288 with 1 Axes>"
            ]
          },
          "metadata": {
            "needs_background": "light"
          }
        }
      ]
    },
    {
      "cell_type": "markdown",
      "metadata": {
        "id": "p82qRZWUbe8A"
      },
      "source": [
        "For both groups, skewness is very close to 0. The kurtosis for both groups is slightly negative (-0.78 and -0.89), so the distributions are slightly flatter than normal. Both skewness and kurtosis are within the +/-3 guidline limits for making a t-test acceptable for testing the difference between groups. However, if we look at the results of Shapiro-Wilk test, both groups have p-values much less than 0.05, indicating non-normality at the 95% confidence level. But the sample sizes of 500 and 231 may be too large for S-W, so the Kolmogorov–Smirnov test can be considered also. Both groups have p-values of 0.0, indicating non-normality as well. The histograms appear to show the data have some normal characteristics, but not others. The skewness and kurtosis values match with what is seen in the histograms. While there is some positive correlation in the Q-Q plots, the data are not convincingly normal. A non-parametric test should be used to assess if there is a significant difference between the two groups. The Kruskal-Wallis test will be used:"
      ]
    },
    {
      "cell_type": "code",
      "metadata": {
        "colab": {
          "base_uri": "https://localhost:8080/"
        },
        "id": "0oHtlmra7A77",
        "outputId": "4215961a-c9df-4a07-9f99-dfdb9a5648db"
      },
      "source": [
        "# compute medians for reference\n",
        "print(rbs_data_day_wdy_cnt.median())\n",
        "print(rbs_data_day_wdn_cnt.median())\n",
        "# use Kruskal-Wallis test\n",
        "print(stats.kruskal(rbs_data_day_wdy_cnt, rbs_data_day_wdn_cnt))"
      ],
      "execution_count": null,
      "outputs": [
        {
          "output_type": "stream",
          "name": "stdout",
          "text": [
            "4582.0\n",
            "4459.0\n",
            "KruskalResult(statistic=2.4362299663327818, pvalue=0.11856086731455766)\n"
          ]
        }
      ]
    },
    {
      "cell_type": "markdown",
      "metadata": {
        "id": "KuejnphP8ITg"
      },
      "source": [
        "Because the p-value is > 0.05, we cannot reject the null hypothesis that the distributions of rider counts in the working day and non-working day groups are the same. To specfically consider the difference in medians between the two groups, Mood's median test can be used:"
      ]
    },
    {
      "cell_type": "code",
      "metadata": {
        "colab": {
          "base_uri": "https://localhost:8080/"
        },
        "id": "12c0dVGLwxIw",
        "outputId": "f32528c8-f1b8-4380-856f-9fc411407133"
      },
      "source": [
        "# use Mood's median test\n",
        "print(stats.median_test(rbs_data_day_wdy_cnt, rbs_data_day_wdn_cnt))"
      ],
      "execution_count": null,
      "outputs": [
        {
          "output_type": "stream",
          "name": "stdout",
          "text": [
            "(0.8640102512241858, 0.3526188793079065, 4548.0, array([[256, 109],\n",
            "       [244, 122]]))\n"
          ]
        }
      ]
    },
    {
      "cell_type": "markdown",
      "metadata": {
        "id": "YIzr7IBSxhZH"
      },
      "source": [
        "Because the p-value of 0.35 is > 0.05, we cannot reject the null hypothesis that the medians of rider counts in the working day and non-working day groups are the same.\n",
        "\n"
      ]
    },
    {
      "cell_type": "markdown",
      "metadata": {
        "id": "_KzNC4WY-BHi"
      },
      "source": [
        "#####**2. Day of the Week**\n",
        "First, make dataframes grouped by day of the week and look at info:"
      ]
    },
    {
      "cell_type": "code",
      "metadata": {
        "colab": {
          "base_uri": "https://localhost:8080/"
        },
        "id": "1V8xatYs-x5M",
        "outputId": "7623d5f0-95de-4428-f716-600ba0d59772"
      },
      "source": [
        "rbs_data_day_Su = rbs_data_day[(rbs_data_day['weekday'] == 0)]\n",
        "rbs_data_day_Mo = rbs_data_day[(rbs_data_day['weekday'] == 1)]\n",
        "rbs_data_day_Tu = rbs_data_day[(rbs_data_day['weekday'] == 2)]\n",
        "rbs_data_day_We = rbs_data_day[(rbs_data_day['weekday'] == 3)]\n",
        "rbs_data_day_Th = rbs_data_day[(rbs_data_day['weekday'] == 4)]\n",
        "rbs_data_day_Fr = rbs_data_day[(rbs_data_day['weekday'] == 5)]\n",
        "rbs_data_day_Sa = rbs_data_day[(rbs_data_day['weekday'] == 6)]\n",
        "\n",
        "print(rbs_data_day_Su.info())\n",
        "print(rbs_data_day_Mo.info())\n",
        "print(rbs_data_day_Tu.info())\n",
        "print(rbs_data_day_We.info())\n",
        "print(rbs_data_day_Th.info())\n",
        "print(rbs_data_day_Fr.info())\n",
        "print(rbs_data_day_Sa.info())"
      ],
      "execution_count": null,
      "outputs": [
        {
          "output_type": "stream",
          "name": "stdout",
          "text": [
            "<class 'pandas.core.frame.DataFrame'>\n",
            "Int64Index: 105 entries, 1 to 729\n",
            "Data columns (total 16 columns):\n",
            " #   Column      Non-Null Count  Dtype  \n",
            "---  ------      --------------  -----  \n",
            " 0   instant     105 non-null    int64  \n",
            " 1   dteday      105 non-null    object \n",
            " 2   season      105 non-null    int64  \n",
            " 3   yr          105 non-null    int64  \n",
            " 4   mnth        105 non-null    int64  \n",
            " 5   holiday     105 non-null    int64  \n",
            " 6   weekday     105 non-null    int64  \n",
            " 7   workingday  105 non-null    int64  \n",
            " 8   weathersit  105 non-null    int64  \n",
            " 9   temp        105 non-null    float64\n",
            " 10  atemp       105 non-null    float64\n",
            " 11  hum         105 non-null    float64\n",
            " 12  windspeed   105 non-null    float64\n",
            " 13  casual      105 non-null    int64  \n",
            " 14  registered  105 non-null    int64  \n",
            " 15  cnt         105 non-null    int64  \n",
            "dtypes: float64(4), int64(11), object(1)\n",
            "memory usage: 13.9+ KB\n",
            "None\n",
            "<class 'pandas.core.frame.DataFrame'>\n",
            "Int64Index: 105 entries, 2 to 730\n",
            "Data columns (total 16 columns):\n",
            " #   Column      Non-Null Count  Dtype  \n",
            "---  ------      --------------  -----  \n",
            " 0   instant     105 non-null    int64  \n",
            " 1   dteday      105 non-null    object \n",
            " 2   season      105 non-null    int64  \n",
            " 3   yr          105 non-null    int64  \n",
            " 4   mnth        105 non-null    int64  \n",
            " 5   holiday     105 non-null    int64  \n",
            " 6   weekday     105 non-null    int64  \n",
            " 7   workingday  105 non-null    int64  \n",
            " 8   weathersit  105 non-null    int64  \n",
            " 9   temp        105 non-null    float64\n",
            " 10  atemp       105 non-null    float64\n",
            " 11  hum         105 non-null    float64\n",
            " 12  windspeed   105 non-null    float64\n",
            " 13  casual      105 non-null    int64  \n",
            " 14  registered  105 non-null    int64  \n",
            " 15  cnt         105 non-null    int64  \n",
            "dtypes: float64(4), int64(11), object(1)\n",
            "memory usage: 13.9+ KB\n",
            "None\n",
            "<class 'pandas.core.frame.DataFrame'>\n",
            "Int64Index: 104 entries, 3 to 724\n",
            "Data columns (total 16 columns):\n",
            " #   Column      Non-Null Count  Dtype  \n",
            "---  ------      --------------  -----  \n",
            " 0   instant     104 non-null    int64  \n",
            " 1   dteday      104 non-null    object \n",
            " 2   season      104 non-null    int64  \n",
            " 3   yr          104 non-null    int64  \n",
            " 4   mnth        104 non-null    int64  \n",
            " 5   holiday     104 non-null    int64  \n",
            " 6   weekday     104 non-null    int64  \n",
            " 7   workingday  104 non-null    int64  \n",
            " 8   weathersit  104 non-null    int64  \n",
            " 9   temp        104 non-null    float64\n",
            " 10  atemp       104 non-null    float64\n",
            " 11  hum         104 non-null    float64\n",
            " 12  windspeed   104 non-null    float64\n",
            " 13  casual      104 non-null    int64  \n",
            " 14  registered  104 non-null    int64  \n",
            " 15  cnt         104 non-null    int64  \n",
            "dtypes: float64(4), int64(11), object(1)\n",
            "memory usage: 13.8+ KB\n",
            "None\n",
            "<class 'pandas.core.frame.DataFrame'>\n",
            "Int64Index: 104 entries, 4 to 725\n",
            "Data columns (total 16 columns):\n",
            " #   Column      Non-Null Count  Dtype  \n",
            "---  ------      --------------  -----  \n",
            " 0   instant     104 non-null    int64  \n",
            " 1   dteday      104 non-null    object \n",
            " 2   season      104 non-null    int64  \n",
            " 3   yr          104 non-null    int64  \n",
            " 4   mnth        104 non-null    int64  \n",
            " 5   holiday     104 non-null    int64  \n",
            " 6   weekday     104 non-null    int64  \n",
            " 7   workingday  104 non-null    int64  \n",
            " 8   weathersit  104 non-null    int64  \n",
            " 9   temp        104 non-null    float64\n",
            " 10  atemp       104 non-null    float64\n",
            " 11  hum         104 non-null    float64\n",
            " 12  windspeed   104 non-null    float64\n",
            " 13  casual      104 non-null    int64  \n",
            " 14  registered  104 non-null    int64  \n",
            " 15  cnt         104 non-null    int64  \n",
            "dtypes: float64(4), int64(11), object(1)\n",
            "memory usage: 13.8+ KB\n",
            "None\n",
            "<class 'pandas.core.frame.DataFrame'>\n",
            "Int64Index: 104 entries, 5 to 726\n",
            "Data columns (total 16 columns):\n",
            " #   Column      Non-Null Count  Dtype  \n",
            "---  ------      --------------  -----  \n",
            " 0   instant     104 non-null    int64  \n",
            " 1   dteday      104 non-null    object \n",
            " 2   season      104 non-null    int64  \n",
            " 3   yr          104 non-null    int64  \n",
            " 4   mnth        104 non-null    int64  \n",
            " 5   holiday     104 non-null    int64  \n",
            " 6   weekday     104 non-null    int64  \n",
            " 7   workingday  104 non-null    int64  \n",
            " 8   weathersit  104 non-null    int64  \n",
            " 9   temp        104 non-null    float64\n",
            " 10  atemp       104 non-null    float64\n",
            " 11  hum         104 non-null    float64\n",
            " 12  windspeed   104 non-null    float64\n",
            " 13  casual      104 non-null    int64  \n",
            " 14  registered  104 non-null    int64  \n",
            " 15  cnt         104 non-null    int64  \n",
            "dtypes: float64(4), int64(11), object(1)\n",
            "memory usage: 13.8+ KB\n",
            "None\n",
            "<class 'pandas.core.frame.DataFrame'>\n",
            "Int64Index: 104 entries, 6 to 727\n",
            "Data columns (total 16 columns):\n",
            " #   Column      Non-Null Count  Dtype  \n",
            "---  ------      --------------  -----  \n",
            " 0   instant     104 non-null    int64  \n",
            " 1   dteday      104 non-null    object \n",
            " 2   season      104 non-null    int64  \n",
            " 3   yr          104 non-null    int64  \n",
            " 4   mnth        104 non-null    int64  \n",
            " 5   holiday     104 non-null    int64  \n",
            " 6   weekday     104 non-null    int64  \n",
            " 7   workingday  104 non-null    int64  \n",
            " 8   weathersit  104 non-null    int64  \n",
            " 9   temp        104 non-null    float64\n",
            " 10  atemp       104 non-null    float64\n",
            " 11  hum         104 non-null    float64\n",
            " 12  windspeed   104 non-null    float64\n",
            " 13  casual      104 non-null    int64  \n",
            " 14  registered  104 non-null    int64  \n",
            " 15  cnt         104 non-null    int64  \n",
            "dtypes: float64(4), int64(11), object(1)\n",
            "memory usage: 13.8+ KB\n",
            "None\n",
            "<class 'pandas.core.frame.DataFrame'>\n",
            "Int64Index: 105 entries, 0 to 728\n",
            "Data columns (total 16 columns):\n",
            " #   Column      Non-Null Count  Dtype  \n",
            "---  ------      --------------  -----  \n",
            " 0   instant     105 non-null    int64  \n",
            " 1   dteday      105 non-null    object \n",
            " 2   season      105 non-null    int64  \n",
            " 3   yr          105 non-null    int64  \n",
            " 4   mnth        105 non-null    int64  \n",
            " 5   holiday     105 non-null    int64  \n",
            " 6   weekday     105 non-null    int64  \n",
            " 7   workingday  105 non-null    int64  \n",
            " 8   weathersit  105 non-null    int64  \n",
            " 9   temp        105 non-null    float64\n",
            " 10  atemp       105 non-null    float64\n",
            " 11  hum         105 non-null    float64\n",
            " 12  windspeed   105 non-null    float64\n",
            " 13  casual      105 non-null    int64  \n",
            " 14  registered  105 non-null    int64  \n",
            " 15  cnt         105 non-null    int64  \n",
            "dtypes: float64(4), int64(11), object(1)\n",
            "memory usage: 13.9+ KB\n",
            "None\n"
          ]
        }
      ]
    },
    {
      "cell_type": "markdown",
      "metadata": {
        "id": "nBv2sb1HAtEn"
      },
      "source": [
        "Next, determine whether or not the rider counts are distributed normally by looking at descriptive statistics skewness and kurtosis, test statistic(s), and plots of distribution."
      ]
    },
    {
      "cell_type": "code",
      "metadata": {
        "colab": {
          "base_uri": "https://localhost:8080/",
          "height": 1000
        },
        "id": "qVfL0l5zB3os",
        "outputId": "d568d90e-5c71-476b-f462-ca417e4a17e3"
      },
      "source": [
        "# descriptive statistics\n",
        "# and Shapiro-Wilk (S-W) and Kolmogorov–Smirnov (K-S) tests\n",
        "print('Sundays:')\n",
        "print(stats.describe(rbs_data_day_Su['cnt']))\n",
        "print(stats.shapiro(rbs_data_day_Su['cnt']))\n",
        "print(stats.kstest(rbs_data_day_Su['cnt'],'norm'))\n",
        "print('Mondays:')\n",
        "print(stats.describe(rbs_data_day_Mo['cnt']))\n",
        "print(stats.shapiro(rbs_data_day_Mo['cnt']))\n",
        "print(stats.kstest(rbs_data_day_Mo['cnt'],'norm'))\n",
        "print('Tuesdays:')\n",
        "print(stats.describe(rbs_data_day_Tu['cnt']))\n",
        "print(stats.shapiro(rbs_data_day_Tu['cnt']))\n",
        "print(stats.kstest(rbs_data_day_Tu['cnt'],'norm'))\n",
        "print('Wednesdays:')\n",
        "print(stats.describe(rbs_data_day_We['cnt']))\n",
        "print(stats.shapiro(rbs_data_day_We['cnt']))\n",
        "print(stats.kstest(rbs_data_day_We['cnt'],'norm'))\n",
        "print('Thursdays:')\n",
        "print(stats.describe(rbs_data_day_Th['cnt']))\n",
        "print(stats.shapiro(rbs_data_day_Th['cnt']))\n",
        "print(stats.kstest(rbs_data_day_Th['cnt'],'norm'))\n",
        "print('Fridays:')\n",
        "print(stats.describe(rbs_data_day_Fr['cnt']))\n",
        "print(stats.shapiro(rbs_data_day_Fr['cnt']))\n",
        "print(stats.kstest(rbs_data_day_Fr['cnt'],'norm'))\n",
        "print('Saturdays:')\n",
        "print(stats.describe(rbs_data_day_Sa['cnt']))\n",
        "print(stats.shapiro(rbs_data_day_Sa['cnt']))\n",
        "print(stats.kstest(rbs_data_day_Sa['cnt'],'norm'))\n",
        "\n",
        "# histograms\n",
        "#   separate\n",
        "rbs_data_day['cnt'].hist(by = rbs_data_day['weekday'])\n",
        "plt.show()\n",
        "\n",
        "# setup Q-Q plots\n",
        "rbs_data_day_Su_cnt = rbs_data_day_Su['cnt']\n",
        "rbs_data_day_Mo_cnt = rbs_data_day_Mo['cnt']\n",
        "rbs_data_day_Tu_cnt = rbs_data_day_Tu['cnt']\n",
        "rbs_data_day_We_cnt = rbs_data_day_We['cnt']\n",
        "rbs_data_day_Th_cnt = rbs_data_day_Th['cnt']\n",
        "rbs_data_day_Fr_cnt = rbs_data_day_Fr['cnt']\n",
        "rbs_data_day_Sa_cnt = rbs_data_day_Sa['cnt']\n",
        "# sort the values in ascending order\n",
        "rbs_data_day_Su_cnt.sort_values()\n",
        "rbs_data_day_Mo_cnt.sort_values()\n",
        "rbs_data_day_Tu_cnt.sort_values()\n",
        "rbs_data_day_We_cnt.sort_values()\n",
        "rbs_data_day_Th_cnt.sort_values()\n",
        "rbs_data_day_Fr_cnt.sort_values()\n",
        "rbs_data_day_Sa_cnt.sort_values()\n",
        "# make a standard normally distributed variable with a matching length\n",
        "# a mean of 0, and standard deviation of 1 to use as a comparison\n",
        "norm_Su = np.random.normal(0, 1, len(rbs_data_day_Su_cnt))\n",
        "norm_Mo = np.random.normal(0, 1, len(rbs_data_day_Mo_cnt))\n",
        "norm_Tu = np.random.normal(0, 1, len(rbs_data_day_Tu_cnt))\n",
        "norm_We = np.random.normal(0, 1, len(rbs_data_day_We_cnt))\n",
        "norm_Th = np.random.normal(0, 1, len(rbs_data_day_Th_cnt))\n",
        "norm_Fr = np.random.normal(0, 1, len(rbs_data_day_Fr_cnt))\n",
        "norm_Sa = np.random.normal(0, 1, len(rbs_data_day_Sa_cnt))\n",
        "# sort the values in ascending order\n",
        "norm_Su.sort()\n",
        "norm_Mo.sort()\n",
        "norm_Tu.sort()\n",
        "norm_We.sort()\n",
        "norm_Th.sort()\n",
        "norm_Fr.sort()\n",
        "norm_Sa.sort()\n",
        "# plot cnts vs. norms in QQ plots\n",
        "plt.plot(norm_Su, rbs_data_day_Su_cnt, \"o\")\n",
        "plt.show()\n",
        "plt.plot(norm_Mo, rbs_data_day_Mo_cnt, \"o\")\n",
        "plt.show()\n",
        "plt.plot(norm_Tu, rbs_data_day_Tu_cnt, \"o\")\n",
        "plt.show()\n",
        "plt.plot(norm_We, rbs_data_day_We_cnt, \"o\")\n",
        "plt.show()\n",
        "plt.plot(norm_Th, rbs_data_day_Th_cnt, \"o\")\n",
        "plt.show()\n",
        "plt.plot(norm_Fr, rbs_data_day_Fr_cnt, \"o\")\n",
        "plt.show()\n",
        "plt.plot(norm_Sa, rbs_data_day_Sa_cnt, \"o\")\n",
        "plt.show()"
      ],
      "execution_count": null,
      "outputs": [
        {
          "output_type": "stream",
          "name": "stdout",
          "text": [
            "Sundays:\n",
            "DescribeResult(nobs=105, minmax=(605, 8227), mean=4228.828571428571, variance=3506243.6241758247, skewness=-0.0035507644629986066, kurtosis=-0.7612214896588694)\n",
            "(0.9811584949493408, 0.141499862074852)\n",
            "KstestResult(statistic=1.0, pvalue=0.0)\n",
            "Mondays:\n",
            "DescribeResult(nobs=105, minmax=(22, 7525), mean=4338.1238095238095, variance=3215114.4172161175, skewness=-0.20728950111658384, kurtosis=-0.7605490803955757)\n",
            "(0.9723017811775208, 0.0267639197409153)\n",
            "KstestResult(statistic=1.0, pvalue=0.0)\n",
            "Tuesdays:\n",
            "DescribeResult(nobs=104, minmax=(683, 7767), mean=4510.663461538462, variance=3337606.147778193, skewness=-0.2077970612626131, kurtosis=-0.7427892798848972)\n",
            "(0.9646976590156555, 0.007120804395526648)\n",
            "KstestResult(statistic=1.0, pvalue=0.0)\n",
            "Wednesdays:\n",
            "DescribeResult(nobs=104, minmax=(441, 8173), mean=4548.538461538462, variance=4153834.8334578043, skewness=-0.03531449576726751, kurtosis=-0.9530625925817611)\n",
            "(0.9588786959648132, 0.002632882446050644)\n",
            "KstestResult(statistic=1.0, pvalue=0.0)\n",
            "Thursdays:\n",
            "DescribeResult(nobs=104, minmax=(431, 7804), mean=4667.259615384615, variance=3761401.5921396567, skewness=-0.09299329255234443, kurtosis=-0.9305171694919259)\n",
            "(0.9645445942878723, 0.006932722870260477)\n",
            "KstestResult(statistic=1.0, pvalue=0.0)\n",
            "Fridays:\n",
            "DescribeResult(nobs=104, minmax=(1167, 8362), mean=4690.288461538462, variance=3514218.4014189695, skewness=0.09622418217637137, kurtosis=-0.8274073675913662)\n",
            "(0.9717303514480591, 0.025160953402519226)\n",
            "KstestResult(statistic=1.0, pvalue=0.0)\n",
            "Saturdays:\n",
            "DescribeResult(nobs=105, minmax=(627, 8714), mean=4550.542857142857, variance=4825460.1736263735, skewness=-0.012561653731952132, kurtosis=-0.9660075931733374)\n",
            "(0.9675543308258057, 0.011229334399104118)\n",
            "KstestResult(statistic=1.0, pvalue=0.0)\n"
          ]
        },
        {
          "output_type": "display_data",
          "data": {
            "image/png": "[encoded data removed]",
            "text/plain": [
              "<Figure size 432x288 with 9 Axes>"
            ]
          },
          "metadata": {
            "needs_background": "light"
          }
        },
        {
          "output_type": "display_data",
          "data": {
            "image/png": "[encoded data removed]",
            "text/plain": [
              "<Figure size 432x288 with 1 Axes>"
            ]
          },
          "metadata": {
            "needs_background": "light"
          }
        },
        {
          "output_type": "display_data",
          "data": {
            "image/png": "[encoded data removed]",
            "text/plain": [
              "<Figure size 432x288 with 1 Axes>"
            ]
          },
          "metadata": {
            "needs_background": "light"
          }
        },
        {
          "output_type": "display_data",
          "data": {
            "image/png": "[encoded data removed]",
            "text/plain": [
              "<Figure size 432x288 with 1 Axes>"
            ]
          },
          "metadata": {
            "needs_background": "light"
          }
        },
        {
          "output_type": "display_data",
          "data": {
            "image/png": "[encoded data removed]",
            "text/plain": [
              "<Figure size 432x288 with 1 Axes>"
            ]
          },
          "metadata": {
            "needs_background": "light"
          }
        },
        {
          "output_type": "display_data",
          "data": {
            "image/png": "[encoded data removed]",
            "text/plain": [
              "<Figure size 432x288 with 1 Axes>"
            ]
          },
          "metadata": {
            "needs_background": "light"
          }
        },
        {
          "output_type": "display_data",
          "data": {
            "image/png": "[encoded data removed]",
            "text/plain": [
              "<Figure size 432x288 with 1 Axes>"
            ]
          },
          "metadata": {
            "needs_background": "light"
          }
        },
        {
          "output_type": "display_data",
          "data": {
            "image/png": "[encoded data removed]",
            "text/plain": [
              "<Figure size 432x288 with 1 Axes>"
            ]
          },
          "metadata": {
            "needs_background": "light"
          }
        }
      ]
    },
    {
      "cell_type": "markdown",
      "metadata": {
        "id": "krSsAalFGTWh"
      },
      "source": [
        "For all groups, skewness is close to 0, ranging from -0.21 to 0.10. The kurtosis for all groups is slightly negative (-0.97 to -0.74), so the distributions are slightly flatter than normal. Both skewness and kurtosis are within the +/-3 guidline limits for making a t-test or ANOVA acceptable for testing the difference between or among groups. However, if we look at the results of Shapiro-Wilk test, most groups have p-values less than 0.05, indicating non-normality at the 95% confidence level. Sunday is the only day with a p-value greater than 0.05. But the sample sizes of 104 or 105 may be too large for S-W, so the Kolmogorov–Smirnov test can be considered also. All groups have p-values of 0.0, indicating non-normality as well. The histograms do not look very normal, although Sunday (0) and Friday (5) look more normal than Thursday (4). The skewness and kurtosis values match with what is seen in the histograms. While there is some positive correlation in the Q-Q plots, the data are not convincingly normal. A non-parametric test should be used to assess if there is a significant difference among the groups. The Kruskal-Wallis test will be used:"
      ]
    },
    {
      "cell_type": "code",
      "metadata": {
        "colab": {
          "base_uri": "https://localhost:8080/"
        },
        "id": "in9khks2O8_y",
        "outputId": "ea22861c-30e7-4773-8d04-4ac1426beb34"
      },
      "source": [
        "# compute medians for reference\n",
        "print(rbs_data_day_Su_cnt.median())\n",
        "print(rbs_data_day_Mo_cnt.median())\n",
        "print(rbs_data_day_Tu_cnt.median())\n",
        "print(rbs_data_day_We_cnt.median())\n",
        "print(rbs_data_day_Th_cnt.median())\n",
        "print(rbs_data_day_Fr_cnt.median())\n",
        "print(rbs_data_day_Sa_cnt.median())\n",
        "\n",
        "# use Kruskal-Wallis test\n",
        "print(stats.kruskal(rbs_data_day_Su_cnt, rbs_data_day_Mo_cnt, rbs_data_day_Tu_cnt, \n",
        "              rbs_data_day_We_cnt, rbs_data_day_Th_cnt, rbs_data_day_Fr_cnt, \n",
        "              rbs_data_day_Sa_cnt))"
      ],
      "execution_count": null,
      "outputs": [
        {
          "output_type": "stream",
          "name": "stdout",
          "text": [
            "4334.0\n",
            "4359.0\n",
            "4576.5\n",
            "4642.5\n",
            "4721.0\n",
            "4601.5\n",
            "4521.0\n",
            "KruskalResult(statistic=4.3374571794145975, pvalue=0.6311103402212379)\n"
          ]
        }
      ]
    },
    {
      "cell_type": "markdown",
      "metadata": {
        "id": "2xFO76qTPyXY"
      },
      "source": [
        "Because the p-value is > 0.05, we cannot reject the null hypothesis that the \n",
        "distributions of rider counts in the different day groups are the same. To specfically consider the difference in medians among the groups, Mood's median test can be used:"
      ]
    },
    {
      "cell_type": "code",
      "metadata": {
        "colab": {
          "base_uri": "https://localhost:8080/"
        },
        "id": "RGvWJnhWz9kS",
        "outputId": "cc3fa181-5193-406b-8cd1-05d3a85b4ca6"
      },
      "source": [
        "# use Mood's median test\n",
        "print(stats.median_test(rbs_data_day_Su_cnt, rbs_data_day_Mo_cnt, rbs_data_day_Tu_cnt, \n",
        "                  rbs_data_day_We_cnt, rbs_data_day_Th_cnt, rbs_data_day_Fr_cnt, \n",
        "                  rbs_data_day_Sa_cnt))"
      ],
      "execution_count": null,
      "outputs": [
        {
          "output_type": "stream",
          "name": "stdout",
          "text": [
            "(3.2381985104498057, 0.7784111476143536, 4548.0, array([[49, 46, 53, 54, 56, 55, 52],\n",
            "       [56, 59, 51, 50, 48, 49, 53]]))\n"
          ]
        }
      ]
    },
    {
      "cell_type": "markdown",
      "metadata": {
        "id": "jE78JXLq0j1j"
      },
      "source": [
        "Because the p-value of 0.78 is > 0.05, we cannot reject the null hypothesis that the medians of rider counts in the different day groups are the same."
      ]
    },
    {
      "cell_type": "markdown",
      "metadata": {
        "id": "r3UqIRRW3uI6"
      },
      "source": [
        "#####**3. Season**\n",
        "First, make dataframes grouped by season and look at info:"
      ]
    },
    {
      "cell_type": "code",
      "metadata": {
        "colab": {
          "base_uri": "https://localhost:8080/"
        },
        "id": "3h5fN_h34Qw9",
        "outputId": "243b49c4-0965-49e7-d4d8-3275045ead4f"
      },
      "source": [
        "rbs_data_day_sp = rbs_data_day[(rbs_data_day['season'] == 2)]\n",
        "rbs_data_day_sm = rbs_data_day[(rbs_data_day['season'] == 3)]\n",
        "rbs_data_day_au = rbs_data_day[(rbs_data_day['season'] == 4)]\n",
        "rbs_data_day_wi = rbs_data_day[(rbs_data_day['season'] == 1)]\n",
        "\n",
        "print(rbs_data_day_sp.info())\n",
        "print(rbs_data_day_sm.info())\n",
        "print(rbs_data_day_au.info())\n",
        "print(rbs_data_day_wi.info())"
      ],
      "execution_count": null,
      "outputs": [
        {
          "output_type": "stream",
          "name": "stdout",
          "text": [
            "<class 'pandas.core.frame.DataFrame'>\n",
            "Int64Index: 184 entries, 79 to 536\n",
            "Data columns (total 16 columns):\n",
            " #   Column      Non-Null Count  Dtype  \n",
            "---  ------      --------------  -----  \n",
            " 0   instant     184 non-null    int64  \n",
            " 1   dteday      184 non-null    object \n",
            " 2   season      184 non-null    int64  \n",
            " 3   yr          184 non-null    int64  \n",
            " 4   mnth        184 non-null    int64  \n",
            " 5   holiday     184 non-null    int64  \n",
            " 6   weekday     184 non-null    int64  \n",
            " 7   workingday  184 non-null    int64  \n",
            " 8   weathersit  184 non-null    int64  \n",
            " 9   temp        184 non-null    float64\n",
            " 10  atemp       184 non-null    float64\n",
            " 11  hum         184 non-null    float64\n",
            " 12  windspeed   184 non-null    float64\n",
            " 13  casual      184 non-null    int64  \n",
            " 14  registered  184 non-null    int64  \n",
            " 15  cnt         184 non-null    int64  \n",
            "dtypes: float64(4), int64(11), object(1)\n",
            "memory usage: 24.4+ KB\n",
            "None\n",
            "<class 'pandas.core.frame.DataFrame'>\n",
            "Int64Index: 188 entries, 171 to 630\n",
            "Data columns (total 16 columns):\n",
            " #   Column      Non-Null Count  Dtype  \n",
            "---  ------      --------------  -----  \n",
            " 0   instant     188 non-null    int64  \n",
            " 1   dteday      188 non-null    object \n",
            " 2   season      188 non-null    int64  \n",
            " 3   yr          188 non-null    int64  \n",
            " 4   mnth        188 non-null    int64  \n",
            " 5   holiday     188 non-null    int64  \n",
            " 6   weekday     188 non-null    int64  \n",
            " 7   workingday  188 non-null    int64  \n",
            " 8   weathersit  188 non-null    int64  \n",
            " 9   temp        188 non-null    float64\n",
            " 10  atemp       188 non-null    float64\n",
            " 11  hum         188 non-null    float64\n",
            " 12  windspeed   188 non-null    float64\n",
            " 13  casual      188 non-null    int64  \n",
            " 14  registered  188 non-null    int64  \n",
            " 15  cnt         188 non-null    int64  \n",
            "dtypes: float64(4), int64(11), object(1)\n",
            "memory usage: 25.0+ KB\n",
            "None\n",
            "<class 'pandas.core.frame.DataFrame'>\n",
            "Int64Index: 178 entries, 265 to 719\n",
            "Data columns (total 16 columns):\n",
            " #   Column      Non-Null Count  Dtype  \n",
            "---  ------      --------------  -----  \n",
            " 0   instant     178 non-null    int64  \n",
            " 1   dteday      178 non-null    object \n",
            " 2   season      178 non-null    int64  \n",
            " 3   yr          178 non-null    int64  \n",
            " 4   mnth        178 non-null    int64  \n",
            " 5   holiday     178 non-null    int64  \n",
            " 6   weekday     178 non-null    int64  \n",
            " 7   workingday  178 non-null    int64  \n",
            " 8   weathersit  178 non-null    int64  \n",
            " 9   temp        178 non-null    float64\n",
            " 10  atemp       178 non-null    float64\n",
            " 11  hum         178 non-null    float64\n",
            " 12  windspeed   178 non-null    float64\n",
            " 13  casual      178 non-null    int64  \n",
            " 14  registered  178 non-null    int64  \n",
            " 15  cnt         178 non-null    int64  \n",
            "dtypes: float64(4), int64(11), object(1)\n",
            "memory usage: 23.6+ KB\n",
            "None\n",
            "<class 'pandas.core.frame.DataFrame'>\n",
            "Int64Index: 181 entries, 0 to 730\n",
            "Data columns (total 16 columns):\n",
            " #   Column      Non-Null Count  Dtype  \n",
            "---  ------      --------------  -----  \n",
            " 0   instant     181 non-null    int64  \n",
            " 1   dteday      181 non-null    object \n",
            " 2   season      181 non-null    int64  \n",
            " 3   yr          181 non-null    int64  \n",
            " 4   mnth        181 non-null    int64  \n",
            " 5   holiday     181 non-null    int64  \n",
            " 6   weekday     181 non-null    int64  \n",
            " 7   workingday  181 non-null    int64  \n",
            " 8   weathersit  181 non-null    int64  \n",
            " 9   temp        181 non-null    float64\n",
            " 10  atemp       181 non-null    float64\n",
            " 11  hum         181 non-null    float64\n",
            " 12  windspeed   181 non-null    float64\n",
            " 13  casual      181 non-null    int64  \n",
            " 14  registered  181 non-null    int64  \n",
            " 15  cnt         181 non-null    int64  \n",
            "dtypes: float64(4), int64(11), object(1)\n",
            "memory usage: 24.0+ KB\n",
            "None\n"
          ]
        }
      ]
    },
    {
      "cell_type": "markdown",
      "metadata": {
        "id": "0ksMyjoy7YKr"
      },
      "source": [
        "Next, determine whether or not the rider counts are distributed normally by looking at descriptive statistics skewness and kurtosis, test statistic(s), and plots of distribution."
      ]
    },
    {
      "cell_type": "code",
      "metadata": {
        "colab": {
          "base_uri": "https://localhost:8080/",
          "height": 1000
        },
        "id": "dG7Wwfaj7jmD",
        "outputId": "5799e3f3-cec5-44bf-81f6-43926da1a961"
      },
      "source": [
        "# descriptive statistics\n",
        "# and Shapiro-Wilk (S-W) and Kolmogorov–Smirnov (K-S) tests\n",
        "print('Spring:')\n",
        "print(stats.describe(rbs_data_day_sp['cnt']))\n",
        "print(stats.shapiro(rbs_data_day_sp['cnt']))\n",
        "print(stats.kstest(rbs_data_day_sp['cnt'],'norm'))\n",
        "print('Summer:')\n",
        "print(stats.describe(rbs_data_day_sm['cnt']))\n",
        "print(stats.shapiro(rbs_data_day_sm['cnt']))\n",
        "print(stats.kstest(rbs_data_day_sm['cnt'],'norm'))\n",
        "print('Autumn:')\n",
        "print(stats.describe(rbs_data_day_au['cnt']))\n",
        "print(stats.shapiro(rbs_data_day_au['cnt']))\n",
        "print(stats.kstest(rbs_data_day_au['cnt'],'norm'))\n",
        "print('Winter:')\n",
        "print(stats.describe(rbs_data_day_wi['cnt']))\n",
        "print(stats.shapiro(rbs_data_day_wi['cnt']))\n",
        "print(stats.kstest(rbs_data_day_wi['cnt'],'norm'))\n",
        "\n",
        "# histograms\n",
        "#   separate\n",
        "rbs_data_day['cnt'].hist(by = rbs_data_day['season'])\n",
        "plt.show()\n",
        "\n",
        "# setup Q-Q plots\n",
        "rbs_data_day_sp_cnt = rbs_data_day_sp['cnt']\n",
        "rbs_data_day_sm_cnt = rbs_data_day_sm['cnt']\n",
        "rbs_data_day_au_cnt = rbs_data_day_au['cnt']\n",
        "rbs_data_day_wi_cnt = rbs_data_day_wi['cnt']\n",
        "# sort the values in ascending order\n",
        "rbs_data_day_sp_cnt.sort_values()\n",
        "rbs_data_day_sm_cnt.sort_values()\n",
        "rbs_data_day_au_cnt.sort_values()\n",
        "rbs_data_day_wi_cnt.sort_values()\n",
        "# make a standard normally distributed variable with a matching length\n",
        "# a mean of 0, and standard deviation of 1 to use as a comparison\n",
        "norm_sp = np.random.normal(0, 1, len(rbs_data_day_sp_cnt))\n",
        "norm_sm = np.random.normal(0, 1, len(rbs_data_day_sm_cnt))\n",
        "norm_au = np.random.normal(0, 1, len(rbs_data_day_au_cnt))\n",
        "norm_wi = np.random.normal(0, 1, len(rbs_data_day_wi_cnt))\n",
        "# sort the values in ascending order\n",
        "norm_sp.sort()\n",
        "norm_sm.sort()\n",
        "norm_au.sort()\n",
        "norm_wi.sort()\n",
        "# plot cnts vs. norms in QQ plots\n",
        "plt.plot(norm_sp, rbs_data_day_sp_cnt, \"o\")\n",
        "plt.show()\n",
        "plt.plot(norm_sm, rbs_data_day_sm_cnt, \"o\")\n",
        "plt.show()\n",
        "plt.plot(norm_au, rbs_data_day_au_cnt, \"o\")\n",
        "plt.show()\n",
        "plt.plot(norm_wi, rbs_data_day_wi_cnt, \"o\")\n",
        "plt.show()"
      ],
      "execution_count": null,
      "outputs": [
        {
          "output_type": "stream",
          "name": "stdout",
          "text": [
            "Spring:\n",
            "DescribeResult(nobs=184, minmax=(795, 8362), mean=4992.33152173913, variance=2876338.780203136, skewness=-0.26146056225834585, kurtosis=-0.6095494374692798)\n",
            "(0.9793386459350586, 0.0079073840752244)\n",
            "KstestResult(statistic=1.0, pvalue=0.0)\n",
            "Summer:\n",
            "DescribeResult(nobs=188, minmax=(1115, 8714), mean=5644.303191489362, variance=2131017.1535726474, skewness=-0.09546400140063158, kurtosis=-0.580689108437674)\n",
            "(0.9631569981575012, 7.678098336327821e-05)\n",
            "KstestResult(statistic=1.0, pvalue=0.0)\n",
            "Autumn:\n",
            "DescribeResult(nobs=178, minmax=(22, 8555), mean=4728.162921348315, variance=2888692.0354535645, skewness=0.09174117170423225, kurtosis=-0.2860535078645601)\n",
            "(0.9814850687980652, 0.018196173012256622)\n",
            "KstestResult(statistic=1.0, pvalue=0.0)\n",
            "Winter:\n",
            "DescribeResult(nobs=181, minmax=(431, 7836), mean=2604.1325966850827, variance=1959837.9378759973, skewness=0.8779704347139162, kurtosis=0.4714852224240822)\n",
            "(0.9380476474761963, 4.983239705325104e-07)\n",
            "KstestResult(statistic=1.0, pvalue=0.0)\n"
          ]
        },
        {
          "output_type": "display_data",
          "data": {
            "image/png": "[encoded data removed]",
            "text/plain": [
              "<Figure size 432x288 with 4 Axes>"
            ]
          },
          "metadata": {
            "needs_background": "light"
          }
        },
        {
          "output_type": "display_data",
          "data": {
            "image/png": "[encoded data removed]",
            "text/plain": [
              "<Figure size 432x288 with 1 Axes>"
            ]
          },
          "metadata": {
            "needs_background": "light"
          }
        },
        {
          "output_type": "display_data",
          "data": {
            "image/png": "[encoded data removed]",
            "text/plain": [
              "<Figure size 432x288 with 1 Axes>"
            ]
          },
          "metadata": {
            "needs_background": "light"
          }
        },
        {
          "output_type": "display_data",
          "data": {
            "image/png": "[encoded data removed]",
            "text/plain": [
              "<Figure size 432x288 with 1 Axes>"
            ]
          },
          "metadata": {
            "needs_background": "light"
          }
        },
        {
          "output_type": "display_data",
          "data": {
            "image/png": "[encoded data removed]",
            "text/plain": [
              "<Figure size 432x288 with 1 Axes>"
            ]
          },
          "metadata": {
            "needs_background": "light"
          }
        }
      ]
    },
    {
      "cell_type": "markdown",
      "metadata": {
        "id": "mYkBJZIgGyOL"
      },
      "source": [
        "For all groups, skewness and kurtosis are small, ranging from -0.26 to 0.88 and -0.61 to 0.47, respectively. Both skewness and kurtosis are within the +/-3 guidline limits for making a t-test or ANOVA acceptable for testing the difference between or among groups. However, if we look at the results of Shapiro-Wilk test, all groups have p-values less than 0.05, indicating non-normality at the 95% confidence level. But the sample sizes of 178 to 188 may be too large for S-W, so the Kolmogorov–Smirnov test can be considered also. All groups have p-values of 0.0, indicating non-normality as well. The histograms do not look very normal, although spring (2) and autumn (4) look more normal than the others. While there is some positive correlation in the Q-Q plots, clearer in the plot for spring, the data are not convincingly normal. A non-parametric test should be used to assess if there is a significant difference among the groups. The Kruskal-Wallis test will be used:"
      ]
    },
    {
      "cell_type": "code",
      "metadata": {
        "colab": {
          "base_uri": "https://localhost:8080/"
        },
        "id": "ARKu8fqZQgRE",
        "outputId": "ab743667-951c-4ef8-eedd-de28d11ce6ec"
      },
      "source": [
        "# compute medians for reference\n",
        "print(rbs_data_day_sp_cnt.median())\n",
        "print(rbs_data_day_sm_cnt.median())\n",
        "print(rbs_data_day_au_cnt.median())\n",
        "print(rbs_data_day_wi_cnt.median())\n",
        "\n",
        "# use Kruskal-Wallis test\n",
        "print(stats.kruskal(rbs_data_day_sp_cnt, rbs_data_day_sm_cnt, rbs_data_day_au_cnt, \n",
        "              rbs_data_day_wi_cnt))"
      ],
      "execution_count": null,
      "outputs": [
        {
          "output_type": "stream",
          "name": "stdout",
          "text": [
            "4941.5\n",
            "5353.5\n",
            "4634.5\n",
            "2209.0\n",
            "KruskalResult(statistic=250.9335046488973, pvalue=4.110755793069794e-54)\n"
          ]
        }
      ]
    },
    {
      "cell_type": "markdown",
      "metadata": {
        "id": "t5GHG4VbQgRM"
      },
      "source": [
        "Because the p-value is < 0.05, we reject the null hypothesis that the \n",
        "distributions of rider counts in the season groups are the same. To specfically consider the difference in medians among the groups, Mood's median test can be used:"
      ]
    },
    {
      "cell_type": "code",
      "metadata": {
        "colab": {
          "base_uri": "https://localhost:8080/"
        },
        "id": "B1qnsGaWQgRM",
        "outputId": "c7843cca-6359-44a9-daf5-2a5305eebc15"
      },
      "source": [
        "# use Mood's median test\n",
        "print(stats.median_test(rbs_data_day_sp_cnt, rbs_data_day_sm_cnt, rbs_data_day_au_cnt, \n",
        "              rbs_data_day_wi_cnt))"
      ],
      "execution_count": null,
      "outputs": [
        {
          "output_type": "stream",
          "name": "stdout",
          "text": [
            "(183.68804779371652, 1.409201284927026e-39, 4548.0, array([[113, 143,  93,  16],\n",
            "       [ 71,  45,  85, 165]]))\n"
          ]
        }
      ]
    },
    {
      "cell_type": "markdown",
      "metadata": {
        "id": "kBLCenWWQgRM"
      },
      "source": [
        "Because the p-value of 1.4e-39 is < 0.05, we reject the null hypothesis that the medians of rider counts in the season groups are the same. By applying the median test to each pair we can see which groups have a significant difference:"
      ]
    },
    {
      "cell_type": "code",
      "metadata": {
        "colab": {
          "base_uri": "https://localhost:8080/"
        },
        "id": "M0s8KHitTfhE",
        "outputId": "217b2e92-7bb3-455d-b7cb-56cb8ab1da45"
      },
      "source": [
        "# use Mood's median test\n",
        "print(stats.median_test(rbs_data_day_sp_cnt, rbs_data_day_sm_cnt))\n",
        "print(stats.median_test(rbs_data_day_sp_cnt, rbs_data_day_au_cnt))\n",
        "print(stats.median_test(rbs_data_day_sp_cnt, rbs_data_day_wi_cnt))\n",
        "print(stats.median_test(rbs_data_day_sm_cnt, rbs_data_day_au_cnt))\n",
        "print(stats.median_test(rbs_data_day_sm_cnt, rbs_data_day_wi_cnt))\n",
        "print(stats.median_test(rbs_data_day_au_cnt, rbs_data_day_wi_cnt))"
      ],
      "execution_count": null,
      "outputs": [
        {
          "output_type": "stream",
          "name": "stdout",
          "text": [
            "(4.306323682832358, 0.03797093479387139, 5119.0, array([[ 81, 104],\n",
            "       [103,  84]]))\n",
            "(1.8679164631167562, 0.17171390044413332, 4829.5, array([[99, 82],\n",
            "       [85, 96]]))\n",
            "(121.99400230016322, 2.3153679014005666e-28, 3830.0, array([[145,  37],\n",
            "       [ 39, 144]]))\n",
            "(7.973165192445613, 0.004747585221985678, 5052.5, array([[108,  75],\n",
            "       [ 80, 103]]))\n",
            "(187.54577561916076, 1.0915738027117986e-42, 4274.0, array([[160,  24],\n",
            "       [ 28, 157]]))\n",
            "(93.28284112450064, 4.533050554230397e-22, 3577.0, array([[135,  44],\n",
            "       [ 43, 137]]))\n"
          ]
        }
      ]
    },
    {
      "cell_type": "markdown",
      "metadata": {
        "id": "6LeB09y5VKSG"
      },
      "source": [
        "The only pair in which there is not a significant difference in the medians is the pair of spring and autumn with a p-value of 0.17, which is > 0.05."
      ]
    },
    {
      "cell_type": "markdown",
      "metadata": {
        "id": "XySga9FWWEy8"
      },
      "source": [
        "#####**4. Weather Intensity**\n",
        "First, make dataframes grouped by season and look at info:"
      ]
    },
    {
      "cell_type": "code",
      "metadata": {
        "colab": {
          "base_uri": "https://localhost:8080/"
        },
        "id": "UGhf6RgFWEzC",
        "outputId": "887c97e5-f30b-4d7e-9725-7b6084fe7bae"
      },
      "source": [
        "rbs_data_day_wi1 = rbs_data_day[(rbs_data_day['weathersit'] == 1)]\n",
        "rbs_data_day_wi2 = rbs_data_day[(rbs_data_day['weathersit'] == 2)]\n",
        "rbs_data_day_wi3 = rbs_data_day[(rbs_data_day['weathersit'] == 3)]\n",
        "\n",
        "print(rbs_data_day_wi1.info())\n",
        "print(rbs_data_day_wi2.info())\n",
        "print(rbs_data_day_wi3.info())"
      ],
      "execution_count": null,
      "outputs": [
        {
          "output_type": "stream",
          "name": "stdout",
          "text": [
            "<class 'pandas.core.frame.DataFrame'>\n",
            "Int64Index: 463 entries, 2 to 729\n",
            "Data columns (total 16 columns):\n",
            " #   Column      Non-Null Count  Dtype  \n",
            "---  ------      --------------  -----  \n",
            " 0   instant     463 non-null    int64  \n",
            " 1   dteday      463 non-null    object \n",
            " 2   season      463 non-null    int64  \n",
            " 3   yr          463 non-null    int64  \n",
            " 4   mnth        463 non-null    int64  \n",
            " 5   holiday     463 non-null    int64  \n",
            " 6   weekday     463 non-null    int64  \n",
            " 7   workingday  463 non-null    int64  \n",
            " 8   weathersit  463 non-null    int64  \n",
            " 9   temp        463 non-null    float64\n",
            " 10  atemp       463 non-null    float64\n",
            " 11  hum         463 non-null    float64\n",
            " 12  windspeed   463 non-null    float64\n",
            " 13  casual      463 non-null    int64  \n",
            " 14  registered  463 non-null    int64  \n",
            " 15  cnt         463 non-null    int64  \n",
            "dtypes: float64(4), int64(11), object(1)\n",
            "memory usage: 61.5+ KB\n",
            "None\n",
            "<class 'pandas.core.frame.DataFrame'>\n",
            "Int64Index: 247 entries, 0 to 730\n",
            "Data columns (total 16 columns):\n",
            " #   Column      Non-Null Count  Dtype  \n",
            "---  ------      --------------  -----  \n",
            " 0   instant     247 non-null    int64  \n",
            " 1   dteday      247 non-null    object \n",
            " 2   season      247 non-null    int64  \n",
            " 3   yr          247 non-null    int64  \n",
            " 4   mnth        247 non-null    int64  \n",
            " 5   holiday     247 non-null    int64  \n",
            " 6   weekday     247 non-null    int64  \n",
            " 7   workingday  247 non-null    int64  \n",
            " 8   weathersit  247 non-null    int64  \n",
            " 9   temp        247 non-null    float64\n",
            " 10  atemp       247 non-null    float64\n",
            " 11  hum         247 non-null    float64\n",
            " 12  windspeed   247 non-null    float64\n",
            " 13  casual      247 non-null    int64  \n",
            " 14  registered  247 non-null    int64  \n",
            " 15  cnt         247 non-null    int64  \n",
            "dtypes: float64(4), int64(11), object(1)\n",
            "memory usage: 32.8+ KB\n",
            "None\n",
            "<class 'pandas.core.frame.DataFrame'>\n",
            "Int64Index: 21 entries, 25 to 725\n",
            "Data columns (total 16 columns):\n",
            " #   Column      Non-Null Count  Dtype  \n",
            "---  ------      --------------  -----  \n",
            " 0   instant     21 non-null     int64  \n",
            " 1   dteday      21 non-null     object \n",
            " 2   season      21 non-null     int64  \n",
            " 3   yr          21 non-null     int64  \n",
            " 4   mnth        21 non-null     int64  \n",
            " 5   holiday     21 non-null     int64  \n",
            " 6   weekday     21 non-null     int64  \n",
            " 7   workingday  21 non-null     int64  \n",
            " 8   weathersit  21 non-null     int64  \n",
            " 9   temp        21 non-null     float64\n",
            " 10  atemp       21 non-null     float64\n",
            " 11  hum         21 non-null     float64\n",
            " 12  windspeed   21 non-null     float64\n",
            " 13  casual      21 non-null     int64  \n",
            " 14  registered  21 non-null     int64  \n",
            " 15  cnt         21 non-null     int64  \n",
            "dtypes: float64(4), int64(11), object(1)\n",
            "memory usage: 2.8+ KB\n",
            "None\n"
          ]
        }
      ]
    },
    {
      "cell_type": "markdown",
      "metadata": {
        "id": "--1e8rnXWEzD"
      },
      "source": [
        "Next, determine whether or not the rider counts are distributed normally by looking at descriptive statistics skewness and kurtosis, test statistic(s), and plots of distribution."
      ]
    },
    {
      "cell_type": "code",
      "metadata": {
        "colab": {
          "base_uri": "https://localhost:8080/",
          "height": 1000
        },
        "id": "kGk_5jA2WEzD",
        "outputId": "fe9bdb8c-db1f-4bf0-d005-62c3283e49f3"
      },
      "source": [
        "# descriptive statistics\n",
        "# and Shapiro-Wilk (S-W) and Kolmogorov–Smirnov (K-S) tests\n",
        "print('Weather Intensity 1:')\n",
        "print(stats.describe(rbs_data_day_wi1['cnt']))\n",
        "print(stats.shapiro(rbs_data_day_wi1['cnt']))\n",
        "print(stats.kstest(rbs_data_day_wi1['cnt'],'norm'))\n",
        "print('Weather Intensity 2:')\n",
        "print(stats.describe(rbs_data_day_wi2['cnt']))\n",
        "print(stats.shapiro(rbs_data_day_wi2['cnt']))\n",
        "print(stats.kstest(rbs_data_day_wi2['cnt'],'norm'))\n",
        "print('Weather Intensity 3:')\n",
        "print(stats.describe(rbs_data_day_wi3['cnt']))\n",
        "print(stats.shapiro(rbs_data_day_wi3['cnt']))\n",
        "print(stats.kstest(rbs_data_day_wi3['cnt'],'norm'))\n",
        "\n",
        "# histograms\n",
        "#   separate\n",
        "rbs_data_day['cnt'].hist(by = rbs_data_day['weathersit'])\n",
        "plt.show()\n",
        "\n",
        "# setup Q-Q plots\n",
        "rbs_data_day_wi1_cnt = rbs_data_day_wi1['cnt']\n",
        "rbs_data_day_wi2_cnt = rbs_data_day_wi2['cnt']\n",
        "rbs_data_day_wi3_cnt = rbs_data_day_wi3['cnt']\n",
        "# sort the values in ascending order\n",
        "rbs_data_day_wi1_cnt.sort_values()\n",
        "rbs_data_day_wi2_cnt.sort_values()\n",
        "rbs_data_day_wi3_cnt.sort_values()\n",
        "# make a standard normally distributed variable with a matching length\n",
        "# a mean of 0, and standard deviation of 1 to use as a comparison\n",
        "norm_wi1 = np.random.normal(0, 1, len(rbs_data_day_wi1_cnt))\n",
        "norm_wi2 = np.random.normal(0, 1, len(rbs_data_day_wi2_cnt))\n",
        "norm_wi3 = np.random.normal(0, 1, len(rbs_data_day_wi3_cnt))\n",
        "# sort the values in ascending order\n",
        "norm_wi1.sort()\n",
        "norm_wi2.sort()\n",
        "norm_wi3.sort()\n",
        "# plot cnts vs. norms in QQ plots\n",
        "plt.plot(norm_wi1, rbs_data_day_wi1_cnt, \"o\")\n",
        "plt.show()\n",
        "plt.plot(norm_wi2, rbs_data_day_wi2_cnt, \"o\")\n",
        "plt.show()\n",
        "plt.plot(norm_wi3, rbs_data_day_wi3_cnt, \"o\")\n",
        "plt.show()"
      ],
      "execution_count": null,
      "outputs": [
        {
          "output_type": "stream",
          "name": "stdout",
          "text": [
            "Weather Intensity 1:\n",
            "DescribeResult(nobs=463, minmax=(431, 8714), mean=4876.7861771058315, variance=3532460.0645704186, skewness=-0.1792698696638646, kurtosis=-0.7509012565869218)\n",
            "(0.9763638973236084, 7.900773653091164e-07)\n",
            "KstestResult(statistic=1.0, pvalue=0.0)\n",
            "Weather Intensity 2:\n",
            "DescribeResult(nobs=247, minmax=(605, 8362), mean=4035.862348178138, variance=3272878.6964221057, skewness=0.1676370440834136, kurtosis=-0.7022122605073466)\n",
            "(0.980027973651886, 0.001498431316576898)\n",
            "KstestResult(statistic=1.0, pvalue=0.0)\n",
            "Weather Intensity 3:\n",
            "DescribeResult(nobs=21, minmax=(22, 4639), mean=1803.2857142857142, variance=1538305.5142857144, skewness=0.7445282006670464, kurtosis=0.09908225706328588)\n",
            "(0.921332061290741, 0.09226478636264801)\n",
            "KstestResult(statistic=1.0, pvalue=0.0)\n"
          ]
        },
        {
          "output_type": "display_data",
          "data": {
            "image/png": "[encoded data removed]",
            "text/plain": [
              "<Figure size 432x288 with 4 Axes>"
            ]
          },
          "metadata": {
            "needs_background": "light"
          }
        },
        {
          "output_type": "display_data",
          "data": {
            "image/png": "[encoded data removed]",
            "text/plain": [
              "<Figure size 432x288 with 1 Axes>"
            ]
          },
          "metadata": {
            "needs_background": "light"
          }
        },
        {
          "output_type": "display_data",
          "data": {
            "image/png": "[encoded data removed]",
            "text/plain": [
              "<Figure size 432x288 with 1 Axes>"
            ]
          },
          "metadata": {
            "needs_background": "light"
          }
        },
        {
          "output_type": "display_data",
          "data": {
            "image/png": "[encoded data removed]",
            "text/plain": [
              "<Figure size 432x288 with 1 Axes>"
            ]
          },
          "metadata": {
            "needs_background": "light"
          }
        }
      ]
    },
    {
      "cell_type": "markdown",
      "metadata": {
        "id": "9LahikBWWEzD"
      },
      "source": [
        "For all groups, skewness and kurtosis are small, ranging from -0.18 to 0.74 and -0.75 to 0.10, respectively. Both skewness and kurtosis are within the +/-3 guidline limits for making a t-test or ANOVA acceptable for testing the difference between or among groups. If we look at the results of Shapiro-Wilk test, all groups 1 and 2 have p-values less than 0.05, indicating non-normality at the 95% confidence level. In contrast, group 3 has a p-value greater than 0.05, indicating normality, even if does not look normal in the histogram. In the Kolmogorov–Smirnov test, all groups have p-values of 0.0, indicating non-normality as well. The histograms do not look very normal, although 1 and 2 look more normal than 3.  While there is some positive correlation in the Q-Q plots, the data are not convincingly normal. A non-parametric test should be used to assess if there is a significant difference among the groups. The Kruskal-Wallis test will be used:"
      ]
    },
    {
      "cell_type": "code",
      "metadata": {
        "colab": {
          "base_uri": "https://localhost:8080/"
        },
        "id": "IbAPdPPBWEzE",
        "outputId": "073d5dc8-6786-403f-c445-08d1ca8dfea5"
      },
      "source": [
        "# compute medians for reference\n",
        "print(rbs_data_day_wi1_cnt.median())\n",
        "print(rbs_data_day_wi2_cnt.median())\n",
        "print(rbs_data_day_wi3_cnt.median())\n",
        "\n",
        "# use Kruskal-Wallis test\n",
        "stats.kruskal(rbs_data_day_wi1_cnt, rbs_data_day_wi2_cnt, rbs_data_day_wi3_cnt)"
      ],
      "execution_count": null,
      "outputs": [
        {
          "output_type": "stream",
          "name": "stdout",
          "text": [
            "4844.0\n",
            "4040.0\n",
            "1817.0\n"
          ]
        },
        {
          "output_type": "execute_result",
          "data": {
            "text/plain": [
              "KruskalResult(statistic=67.17520449165305, pvalue=2.588747451005407e-15)"
            ]
          },
          "metadata": {},
          "execution_count": 21
        }
      ]
    },
    {
      "cell_type": "markdown",
      "metadata": {
        "id": "Sdf6h8Y3WEzE"
      },
      "source": [
        "Because the p-value is < 0.05, we reject the null hypothesis that the \n",
        "distributions of rider counts in the weather intensity groups are the same. To specfically consider the difference in medians among the groups, Mood's median test can be used:"
      ]
    },
    {
      "cell_type": "code",
      "metadata": {
        "colab": {
          "base_uri": "https://localhost:8080/"
        },
        "id": "aGIYVrI5WEzE",
        "outputId": "e093cfe3-7001-45c1-e6ce-c8a4a53e1c69"
      },
      "source": [
        "# use Mood's median test\n",
        "stats.median_test(rbs_data_day_wi1_cnt, rbs_data_day_wi2_cnt, rbs_data_day_wi3_cnt)"
      ],
      "execution_count": null,
      "outputs": [
        {
          "output_type": "execute_result",
          "data": {
            "text/plain": [
              "(44.08792366696128, 2.6694944140816625e-10, 4548.0, array([[270,  94,   1],\n",
              "        [193, 153,  20]]))"
            ]
          },
          "metadata": {},
          "execution_count": 22
        }
      ]
    },
    {
      "cell_type": "markdown",
      "metadata": {
        "id": "FpiqH1zLWEzE"
      },
      "source": [
        "Because the p-value of 2.7e-10 is < 0.05, we reject the null hypothesis that the medians of rider counts in the different weather intensity groups are the same. By applying the median test to each pair we can see which groups have a significant difference."
      ]
    },
    {
      "cell_type": "code",
      "metadata": {
        "colab": {
          "base_uri": "https://localhost:8080/"
        },
        "id": "LX1n0V0RWEzE",
        "outputId": "08ed6131-8b93-4afd-c082-87a2a4ab36cf"
      },
      "source": [
        "# use Mood's median test\n",
        "print(stats.median_test(rbs_data_day_wi1_cnt, rbs_data_day_wi2_cnt))\n",
        "print(stats.median_test(rbs_data_day_wi1_cnt, rbs_data_day_wi3_cnt))\n",
        "print(stats.median_test(rbs_data_day_wi2_cnt, rbs_data_day_wi3_cnt))"
      ],
      "execution_count": null,
      "outputs": [
        {
          "output_type": "stream",
          "name": "stdout",
          "text": [
            "(32.18439852747003, 1.4021213934117455e-08, 4585.5, array([[268,  87],\n",
            "       [195, 160]]))\n",
            "(19.911549933148205, 8.110883293780497e-06, 4769.0, array([[242,   0],\n",
            "       [221,  21]]))\n",
            "(13.226913437439752, 0.0002759578656697819, 3883.0, array([[132,   2],\n",
            "       [115,  19]]))\n"
          ]
        }
      ]
    },
    {
      "cell_type": "markdown",
      "metadata": {
        "id": "9twTT9feWEzE"
      },
      "source": [
        "There is a significant difference in the medians is for each pair. There are more riders when the weather is less intense."
      ]
    },
    {
      "cell_type": "markdown",
      "metadata": {
        "id": "aoVgdRSmqQDJ"
      },
      "source": [
        "####**5. Results**\n",
        "\n",
        "For each of the hypotheses being investigated, because of the lack of evidence indicating that rider counts are distributed normally, non-parametric tests were used. The Krukal-Wallis and Mood's median tests were used in all cases. The hypotheses were orginally posed in using the term \"average,\" which typically is the mean. However, because of the non-parametric tests used, the hypotheses had to shift to ones with \"avearge\" replaced with \"median.\" Summarizing the results:\n",
        "\n",
        "#####**1. Working and Non-Working Days**\n",
        ">*   The null hypothesis, H₀, that there is no significant difference between the median count of riders on working and non-working days, cannot be rejected.\n",
        "\n",
        "#####**2. Day of the Week**\n",
        ">*   The null hypothesis, H₀, that there is no significant difference between the median count of riders on different days of the week, cannot be rejected.\n",
        "\n",
        "#####**3. Season**\n",
        ">*   The null hypothesis, H₀, that there is no significant difference between the median daily count of riders in different seasons, is rejected. There is a significant difference between the medians for all pairs of seasons except the pair of spring and autumn.\n",
        "\n",
        "#####**4. Weather Intensity**\n",
        ">*   The null hypothesis, H₀, that there is no significant difference between the median daily count of riders at different weather intensity levels, is rejected. There is a significant difference between the medians for all pairs of weather intensity levels. There are more riders when the weather is less intense."
      ]
    },
    {
      "cell_type": "markdown",
      "metadata": {
        "id": "SBsvULQvyZe6"
      },
      "source": [
        "####**6. Discussion and Recommendations**\n",
        "\n",
        "The median number of riders is not significantly different on working and non-working days or on different days of the week. There is no clear indication based on the above analysis whether the bikes are used more for commuting or for recreation or by DC/MD/VA residents or by visitors. Further research could be done into the hours when the bikes are used and consideration of casual and registered rider counts.\n",
        "\n",
        "The median daily number of riders is significantly different in different seasons, except for spring and autumn, which have similar temperatures and weather. As expected summer has the most riders and winter the fewest. Revenue clearly has a seasonal cycle. The company may want to promote more riding in the colder and darker times of the year, but this may be a difficult sell, and visibility safety is important. The median daily number of riders decreases with increasing weather intensity. Further reseach could be done into the impacts of temperature and wind speed on the number of riders. Winter or times of intense weather may be good times to remove bikes for maintenance.\n",
        "\n",
        "The data are for every day over a two-year period, so there is no time sampling bias within that period. However, there could be bias due to the growth of the company in that more stations and bikes likely became available over the two-year period. There is also bias associated with weather intensity, because more intense days are less frequent."
      ]
    }
  ]
}